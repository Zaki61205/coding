{
  "nbformat": 4,
  "nbformat_minor": 0,
  "metadata": {
    "colab": {
      "provenance": [],
      "authorship_tag": "ABX9TyMw5nmJwcugBHUCApc1peG0",
      "include_colab_link": true
    },
    "kernelspec": {
      "name": "python3",
      "display_name": "Python 3"
    },
    "language_info": {
      "name": "python"
    }
  },
  "cells": [
    {
      "cell_type": "markdown",
      "metadata": {
        "id": "view-in-github",
        "colab_type": "text"
      },
      "source": [
        "<a href=\"https://colab.research.google.com/github/Zaki61205/coding/blob/main/Untitled0.ipynb\" target=\"_parent\"><img src=\"https://colab.research.google.com/assets/colab-badge.svg\" alt=\"Open In Colab\"/></a>"
      ]
    },
    {
      "cell_type": "markdown",
      "metadata": {
        "id": "7abe209c"
      },
      "source": [
        "# Task\n",
        "Create a simple snake game using the `pygame` library."
      ]
    },
    {
      "cell_type": "markdown",
      "metadata": {
        "id": "1e1a2d1f"
      },
      "source": [
        "## Install pygame\n",
        "\n",
        "### Subtask:\n",
        "Install the `pygame` library, which is needed to create the game.\n"
      ]
    },
    {
      "cell_type": "markdown",
      "metadata": {
        "id": "72ffe92b"
      },
      "source": [
        "**Reasoning**:\n",
        "The subtask is to install the `pygame` library. I will use pip to install it.\n",
        "\n"
      ]
    },
    {
      "cell_type": "code",
      "metadata": {
        "id": "c8898247"
      },
      "source": [
        "%pip install pygame"
      ],
      "execution_count": null,
      "outputs": []
    },
    {
      "cell_type": "markdown",
      "metadata": {
        "id": "778cc7ac"
      },
      "source": [
        "## Initialize the game\n",
        "\n",
        "### Subtask:\n",
        "Set up the game window, colors, and other basic parameters.\n"
      ]
    },
    {
      "cell_type": "markdown",
      "metadata": {
        "id": "8fe6349b"
      },
      "source": [
        "**Reasoning**:\n",
        "The instructions require setting up the game window, colors, and basic parameters. This can be done in a single code block.\n",
        "\n"
      ]
    },
    {
      "cell_type": "code",
      "metadata": {
        "id": "0b9a5b42"
      },
      "source": [
        "import pygame\n",
        "\n",
        "pygame.init()\n",
        "\n",
        "display_width = 800\n",
        "display_height = 600\n",
        "\n",
        "gameDisplay = pygame.display.set_mode((display_width, display_height))\n",
        "pygame.display.set_caption('Snake Game')\n",
        "\n",
        "black = (0, 0, 0)\n",
        "white = (255, 255, 255)\n",
        "red = (255, 0, 0)\n",
        "green = (0, 255, 0)\n",
        "\n",
        "clock = pygame.time.Clock()"
      ],
      "execution_count": null,
      "outputs": []
    },
    {
      "cell_type": "markdown",
      "metadata": {
        "id": "b54de593"
      },
      "source": [
        "## Create the snake\n",
        "\n",
        "### Subtask:\n",
        "Define the snake's initial position, size, and movement.\n"
      ]
    },
    {
      "cell_type": "markdown",
      "metadata": {
        "id": "d90f74f7"
      },
      "source": [
        "**Reasoning**:\n",
        "Define the initial properties of the snake, including its size, starting position, and initial movement direction, as per the instructions.\n",
        "\n"
      ]
    },
    {
      "cell_type": "code",
      "metadata": {
        "id": "354c7dac"
      },
      "source": [
        "snake_block = 10\n",
        "x1 = display_width / 2\n",
        "y1 = display_height / 2\n",
        "snake_list = [[x1, y1]]\n",
        "x1_change = 0\n",
        "y1_change = 0"
      ],
      "execution_count": null,
      "outputs": []
    },
    {
      "cell_type": "markdown",
      "metadata": {
        "id": "76745313"
      },
      "source": [
        "## Create the food\n",
        "\n",
        "### Subtask:\n",
        "Define the food's position and size.\n"
      ]
    },
    {
      "cell_type": "markdown",
      "metadata": {
        "id": "6483c710"
      },
      "source": [
        "**Reasoning**:\n",
        "Import the random module and generate random coordinates for the food within the display boundaries and aligned with the snake block size.\n",
        "\n"
      ]
    },
    {
      "cell_type": "code",
      "metadata": {
        "id": "ba0ee393"
      },
      "source": [
        "import random\n",
        "\n",
        "foodx = round(random.randrange(0, display_width - snake_block) / 10.0) * 10.0\n",
        "foody = round(random.randrange(0, display_height - snake_block) / 10.0) * 10.0"
      ],
      "execution_count": null,
      "outputs": []
    },
    {
      "cell_type": "markdown",
      "metadata": {
        "id": "c8277574"
      },
      "source": [
        "## Implement game logic\n",
        "\n",
        "### Subtask:\n",
        "Handle snake movement, food consumption, and collision detection.\n"
      ]
    },
    {
      "cell_type": "markdown",
      "metadata": {
        "id": "02b1c482"
      },
      "source": [
        "**Reasoning**:\n",
        "Implement the main game loop including event handling, snake movement, boundary collision, food consumption, self-collision, and game speed control.\n",
        "\n"
      ]
    },
    {
      "cell_type": "code",
      "metadata": {
        "id": "d5a79c33"
      },
      "source": [
        "game_over = False\n",
        "game_close = False\n",
        "snake_length = 1\n",
        "\n",
        "while not game_over:\n",
        "\n",
        "    while game_close == True:\n",
        "        gameDisplay.fill(black)\n",
        "        # You would typically display a game over message here\n",
        "        pygame.display.update()\n",
        "\n",
        "        for event in pygame.event.get():\n",
        "            if event.type == pygame.QUIT:\n",
        "                game_over = True\n",
        "                game_close = False\n",
        "\n",
        "    for event in pygame.event.get():\n",
        "        if event.type == pygame.QUIT:\n",
        "            game_over = True\n",
        "        if event.type == pygame.KEYDOWN:\n",
        "            if event.key == pygame.K_LEFT:\n",
        "                x1_change = -snake_block\n",
        "                y1_change = 0\n",
        "            elif event.key == pygame.K_RIGHT:\n",
        "                x1_change = snake_block\n",
        "                y1_change = 0\n",
        "            elif event.key == pygame.K_UP:\n",
        "                y1_change = -snake_block\n",
        "                x1_change = 0\n",
        "            elif event.key == pygame.K_DOWN:\n",
        "                y1_change = snake_block\n",
        "                x1_change = 0\n",
        "\n",
        "    if x1 >= display_width or x1 < 0 or y1 >= display_height or y1 < 0:\n",
        "        game_close = True\n",
        "\n",
        "    x1 += x1_change\n",
        "    y1 += y1_change\n",
        "    gameDisplay.fill(black)\n",
        "    pygame.draw.rect(gameDisplay, green, [foodx, foody, snake_block, snake_block])\n",
        "\n",
        "    snake_head = []\n",
        "    snake_head.append(x1)\n",
        "    snake_head.append(y1)\n",
        "    snake_list.append(snake_head)\n",
        "    if len(snake_list) > snake_length:\n",
        "        del snake_list[0]\n",
        "\n",
        "    for x in snake_list[:-1]:\n",
        "        if x == snake_head:\n",
        "            game_close = True\n",
        "\n",
        "    for segment in snake_list:\n",
        "        pygame.draw.rect(gameDisplay, white, [segment[0], segment[1], snake_block, snake_block])\n",
        "\n",
        "\n",
        "    pygame.display.update()\n",
        "\n",
        "    if x1 == foodx and y1 == foody:\n",
        "        foodx = round(random.randrange(0, display_width - snake_block) / 10.0) * 10.0\n",
        "        foody = round(random.randrange(0, display_height - snake_block) / 10.0) * 10.0\n",
        "        snake_length += 1\n",
        "\n",
        "    clock.tick(15) # Control the game speed to 15 FPS\n",
        "\n",
        "pygame.quit()\n",
        "quit()"
      ],
      "execution_count": null,
      "outputs": []
    }
  ]
}